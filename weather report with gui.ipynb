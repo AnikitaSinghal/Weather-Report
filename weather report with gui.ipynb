{
 "cells": [
  {
   "cell_type": "code",
   "execution_count": 1,
   "metadata": {},
   "outputs": [],
   "source": [
    "from tkinter import *\n",
    "from tkinter import messagebox\n",
    "import  requests\n",
    "from  PIL import Image,ImageTk"
   ]
  },
  {
   "cell_type": "code",
   "execution_count": 7,
   "metadata": {},
   "outputs": [],
   "source": [
    "user_api='d1f93c3df77c742b65a56fcd4eb251c4'\n",
    "url='http://api.openweathermap.org/data/2.5/weather?q={}&appid={}'\n",
    "\n",
    "def get_weather(city):\n",
    "    result=requests.get(url.format(city,user_api))\n",
    "    if result:\n",
    "        json=result.json()\n",
    "        city=json['name']\n",
    "        country=json['sys']['country']\n",
    "        temp_kelvin=json['main']['temp']\n",
    "        temp_celsius=temp_kelvin-273.15\n",
    "        temp_fahrenheit=(temp_kelvin-273.15)*9/5+32\n",
    "        icon=json['weather'][0]['icon']\n",
    "        weather=json['weather'][0]['main']\n",
    "        final=(city,country,temp_celsius,temp_fahrenheit,icon,weather)\n",
    "        return final\n",
    "    else:\n",
    "        return None\n",
    "#print(get_weather('London'))    \n",
    "    \n",
    "def search():\n",
    "    city=city_text.get()\n",
    "    weather=get_weather(city)\n",
    "    if  weather:\n",
    "        location_lbl['text']='{},{}'.format(weather[0],weather[1])\n",
    "        image['image']=PhotoImage('desktop/{}.png'.format(weather[4]))\n",
    "        temp_lbl['text']='{:.2f}ºC,{:2f}ºF'.format(weather[2],weather[3])\n",
    "        weather_lbl['text']=weather[5]\n",
    "    else:\n",
    "        messagebox.showerror('Error','Cannnot find city {}'.format(city))\n",
    "\n",
    "        \n",
    "app=Tk()\n",
    "app.title(\"Weather App\")\n",
    "app.geometry('700x350')\n",
    "city_text=StringVar()\n",
    "city_entry=Entry(app,textvariable=city_text)\n",
    "city_entry.pack()\n",
    "\n",
    "search_btn=Button(app,text='SEARCH WEATHER',width=18,command=search)\n",
    "search_btn.pack()\n",
    "\n",
    "location_lbl=Label(app,text='',font=('bold',20))\n",
    "location_lbl.pack()\n",
    "\n",
    "image=Label(app,bitmap='')\n",
    "image.pack()\n",
    "\n",
    "temp_lbl=Label(app,text='')\n",
    "temp_lbl.pack()\n",
    "\n",
    "weather_lbl=Label(app,text='')\n",
    "weather_lbl.pack()\n",
    "\n",
    "app.mainloop()"
   ]
  }
 ],
 "metadata": {
  "kernelspec": {
   "display_name": "Python 3",
   "language": "python",
   "name": "python3"
  },
  "language_info": {
   "codemirror_mode": {
    "name": "ipython",
    "version": 3
   },
   "file_extension": ".py",
   "mimetype": "text/x-python",
   "name": "python",
   "nbconvert_exporter": "python",
   "pygments_lexer": "ipython3",
   "version": "3.8.3"
  }
 },
 "nbformat": 4,
 "nbformat_minor": 4
}
