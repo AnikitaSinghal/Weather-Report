{
 "cells": [
  {
   "cell_type": "code",
   "execution_count": 1,
   "metadata": {},
   "outputs": [],
   "source": [
    "import requests\n",
    "import os\n",
    "from datetime import datetime\n",
    "import sqlite3 as sql"
   ]
  },
  {
   "cell_type": "code",
   "execution_count": 2,
   "metadata": {},
   "outputs": [
    {
     "name": "stdout",
     "output_type": "stream",
     "text": [
      "Enter the city name:Delhi\n",
      "Weather Stats for- DELHI || 24 Mar 2022 | 07:25:26 PM\n",
      "Current temperature  : 31.05 deg C\n",
      "Current weather desc : haze\n",
      "Current Humidity     : 23 %\n",
      "Current wind speed   : 2.06 kmph\n"
     ]
    }
   ],
   "source": [
    "user_api='29d524ec8ba410201781f7abec56eb9c'\n",
    "location=input(\"Enter the city name:\")\n",
    "complete_api_link=\"https://api.openweathermap.org/data/2.5/weather?q=\"+location+\"&appid=\"+user_api\n",
    "api_link=requests.get(complete_api_link)\n",
    "api_data=api_link.json()\n",
    "#print(api_data)\n",
    "if api_data['cod']=='401':\n",
    "    print(\"Invalid city:{},Please check your city name\",format(location))\n",
    "else:\n",
    "    temp_city=((api_data['main']['temp'])-273.15)\n",
    "    weather_desc=api_data['weather'][0]['description']\n",
    "    hmdt=api_data['main']['humidity']\n",
    "    wind_spd=api_data['wind']['speed']\n",
    "    date_time=datetime.now().strftime(\"%d %b %Y | %I:%M:%S %p\")\n",
    "    print(\"Weather Stats for- {} || {}\".format(location.upper(),date_time))\n",
    "    print(\"Current temperature  : {:.2f} deg C\".format(temp_city))\n",
    "    print(\"Current weather desc :\",weather_desc)\n",
    "    print(\"Current Humidity     :\",hmdt,'%')\n",
    "    print(\"Current wind speed   :\",wind_spd,'kmph')"
   ]
  },
  {
   "cell_type": "code",
   "execution_count": 4,
   "metadata": {},
   "outputs": [],
   "source": []
  },
  {
   "cell_type": "code",
   "execution_count": null,
   "metadata": {},
   "outputs": [],
   "source": []
  },
  {
   "cell_type": "code",
   "execution_count": null,
   "metadata": {},
   "outputs": [],
   "source": []
  },
  {
   "cell_type": "code",
   "execution_count": null,
   "metadata": {},
   "outputs": [],
   "source": []
  },
  {
   "cell_type": "code",
   "execution_count": null,
   "metadata": {},
   "outputs": [],
   "source": []
  },
  {
   "cell_type": "code",
   "execution_count": null,
   "metadata": {},
   "outputs": [],
   "source": []
  },
  {
   "cell_type": "code",
   "execution_count": null,
   "metadata": {},
   "outputs": [],
   "source": []
  },
  {
   "cell_type": "code",
   "execution_count": null,
   "metadata": {},
   "outputs": [],
   "source": []
  }
 ],
 "metadata": {
  "kernelspec": {
   "display_name": "Python 3",
   "language": "python",
   "name": "python3"
  },
  "language_info": {
   "codemirror_mode": {
    "name": "ipython",
    "version": 3
   },
   "file_extension": ".py",
   "mimetype": "text/x-python",
   "name": "python",
   "nbconvert_exporter": "python",
   "pygments_lexer": "ipython3",
   "version": "3.8.3"
  }
 },
 "nbformat": 4,
 "nbformat_minor": 4
}
